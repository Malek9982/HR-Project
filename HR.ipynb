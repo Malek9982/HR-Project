{
  "nbformat": 4,
  "nbformat_minor": 0,
  "metadata": {
    "colab": {
      "provenance": []
    },
    "kernelspec": {
      "name": "python3",
      "display_name": "Python 3"
    },
    "language_info": {
      "name": "python"
    }
  },
  "cells": [
    {
      "cell_type": "code",
      "source": [
        "# Promotion rate for highly satisfied employees\n",
        "satisfied_employees = df[df['jobsatisfaction'] > df['jobsatisfaction'].median()]\n",
        "promotion_rate = (satisfied_employees['yearssincelastpromotion'] == 0).mean() * 100\n",
        "print(f\"Promotion rate for satisfied employees: {promotion_rate:.2f}%\")"
      ],
      "metadata": {
        "colab": {
          "base_uri": "https://localhost:8080/"
        },
        "id": "zPxHQKricBGo",
        "outputId": "845b555d-e308-4086-8e38-f17f327aa79c"
      },
      "execution_count": null,
      "outputs": [
        {
          "output_type": "stream",
          "name": "stdout",
          "text": [
            "Promotion rate for satisfied employees: 18.04%\n"
          ]
        }
      ]
    },
    {
      "cell_type": "code",
      "source": [
        "# Promotion rate by gender\n",
        "promotion_by_gender = df.groupby('gender')['yearssincelastpromotion'].mean().reset_index()\n",
        "print(promotion_by_gender)"
      ],
      "metadata": {
        "colab": {
          "base_uri": "https://localhost:8080/"
        },
        "id": "3i3tSa7wcGK8",
        "outputId": "3cf1d1a7-ecda-44ad-b11c-025d0ff6dde6"
      },
      "execution_count": null,
      "outputs": [
        {
          "output_type": "stream",
          "name": "stdout",
          "text": [
            "              gender  yearssincelastpromotion\n",
            "0             Female                 4.297383\n",
            "1               Male                 3.900589\n",
            "2         Non-Binary                 4.533113\n",
            "3  Prefer Not To Say                 4.484848\n"
          ]
        }
      ]
    },
    {
      "cell_type": "code",
      "source": [
        "# Save analysis results to Excel\n",
        "output_path = \"/DOC-20250304-WA0001..xlsx\"\n",
        "\n",
        "with pd.ExcelWriter(output_path) as writer:\n",
        "    avg_salary_by_edu.to_excel(writer, sheet_name=\"Salary by Education\")\n",
        "    salary_by_dept.to_excel(writer, sheet_name=\"Salary by Department\")\n",
        "    attrition_by_dept.to_excel(writer, sheet_name=\"Attrition by Department\")\n",
        "    promotion_by_dept.to_excel(writer, sheet_name=\"Promotion by Department\")\n",
        "\n",
        "print(f\"HR analysis results saved to: {output_path}\")"
      ],
      "metadata": {
        "colab": {
          "base_uri": "https://localhost:8080/"
        },
        "id": "1B1D5cQucKMm",
        "outputId": "6a07766c-1286-4c06-f2ee-99f6092d7e23"
      },
      "execution_count": null,
      "outputs": [
        {
          "output_type": "stream",
          "name": "stdout",
          "text": [
            "HR analysis results saved to: /DOC-20250304-WA0001..xlsx\n"
          ]
        }
      ]
    },
    {
      "cell_type": "code",
      "source": [],
      "metadata": {
        "id": "WePaYEvwcdhr"
      },
      "execution_count": null,
      "outputs": []
    }
  ]
}